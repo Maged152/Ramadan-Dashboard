{
 "cells": [
  {
   "cell_type": "code",
   "execution_count": 1,
   "id": "bcd7bd4a",
   "metadata": {},
   "outputs": [],
   "source": [
    "import requests\n",
    "from pandas import json_normalize\n",
    "import pandas as pd\n",
    "import numpy as np\n",
    "from datetime import datetime\n",
    "import json"
   ]
  },
  {
   "cell_type": "code",
   "execution_count": 2,
   "id": "80fc22dd",
   "metadata": {},
   "outputs": [
    {
     "data": {
      "text/plain": [
       "(197, 3)"
      ]
     },
     "execution_count": 2,
     "metadata": {},
     "output_type": "execute_result"
    }
   ],
   "source": [
    "countries=pd.read_csv(\"contries.csv\")\n",
    "countries.shape"
   ]
  },
  {
   "cell_type": "code",
   "execution_count": 3,
   "id": "2250861d",
   "metadata": {},
   "outputs": [
    {
     "data": {
      "text/html": [
       "<div>\n",
       "<style scoped>\n",
       "    .dataframe tbody tr th:only-of-type {\n",
       "        vertical-align: middle;\n",
       "    }\n",
       "\n",
       "    .dataframe tbody tr th {\n",
       "        vertical-align: top;\n",
       "    }\n",
       "\n",
       "    .dataframe thead th {\n",
       "        text-align: right;\n",
       "    }\n",
       "</style>\n",
       "<table border=\"1\" class=\"dataframe\">\n",
       "  <thead>\n",
       "    <tr style=\"text-align: right;\">\n",
       "      <th></th>\n",
       "      <th>Country</th>\n",
       "      <th>Capital</th>\n",
       "      <th>ISO</th>\n",
       "      <th>Fajr</th>\n",
       "      <th>Maghrib</th>\n",
       "      <th>Duration</th>\n",
       "      <th>Date</th>\n",
       "    </tr>\n",
       "  </thead>\n",
       "  <tbody>\n",
       "  </tbody>\n",
       "</table>\n",
       "</div>"
      ],
      "text/plain": [
       "Empty DataFrame\n",
       "Columns: [Country, Capital, ISO, Fajr, Maghrib, Duration, Date]\n",
       "Index: []"
      ]
     },
     "execution_count": 3,
     "metadata": {},
     "output_type": "execute_result"
    }
   ],
   "source": [
    "Ramadan_data=pd.DataFrame(columns=['Country','Capital','ISO','Fajr','Maghrib','Duration','Date'])\n",
    "Ramadan_data"
   ]
  },
  {
   "cell_type": "code",
   "execution_count": 5,
   "id": "fd2854f9",
   "metadata": {},
   "outputs": [
    {
     "data": {
      "text/plain": [
       "array([1414, 1415, 1416, 1417, 1418, 1419, 1420, 1421, 1422, 1423, 1424,\n",
       "       1425, 1426, 1427, 1428, 1429, 1430, 1431, 1432, 1433, 1434, 1435,\n",
       "       1436, 1437, 1438, 1439, 1440, 1441, 1442, 1443])"
      ]
     },
     "execution_count": 5,
     "metadata": {},
     "output_type": "execute_result"
    }
   ],
   "source": [
    "#197 record 0-196\n",
    "years_h=np.arange(1414,1444,1)\n",
    "FMT = '%H:%M'\n",
    "years_h"
   ]
  },
  {
   "cell_type": "code",
   "execution_count": 7,
   "id": "d6db7461",
   "metadata": {},
   "outputs": [],
   "source": [
    "for country_record in range(197):\n",
    "    for year in years_h:\n",
    "        response = requests.get(f\"http://api.aladhan.com/v1/hijriCalendarByCity?city={countries.Capital[country_record]}&country={countries.ISO[country_record]}&method=2&month=09&year={year}\")\n",
    "        res=response.json()\n",
    "        df = json_normalize(res,'data')\n",
    "        f=df['timings.Fajr'][0][0:5]\n",
    "        m=df['timings.Maghrib'][0][0:5]\n",
    "        new_row = {\n",
    "                    'Country'  :countries.Country[country_record]\n",
    "                    ,'Capital'  :countries.Capital[country_record]\n",
    "                    ,'ISO'     :countries.ISO[country_record]\n",
    "                    ,'Fajr'    :f\n",
    "                    ,'Maghrib' :m\n",
    "                    ,'Duration':(datetime.strptime(m, FMT) - datetime.strptime(f, FMT)).total_seconds()/3600\n",
    "                    ,'Date'    :df['date.readable'][0]\n",
    "                  }\n",
    "        \n",
    "        Ramadan_data=Ramadan_data.append(new_row, ignore_index = True)\n",
    "        "
   ]
  },
  {
   "cell_type": "code",
   "execution_count": 24,
   "id": "38fdd587",
   "metadata": {},
   "outputs": [
    {
     "data": {
      "text/html": [
       "<div>\n",
       "<style scoped>\n",
       "    .dataframe tbody tr th:only-of-type {\n",
       "        vertical-align: middle;\n",
       "    }\n",
       "\n",
       "    .dataframe tbody tr th {\n",
       "        vertical-align: top;\n",
       "    }\n",
       "\n",
       "    .dataframe thead th {\n",
       "        text-align: right;\n",
       "    }\n",
       "</style>\n",
       "<table border=\"1\" class=\"dataframe\">\n",
       "  <thead>\n",
       "    <tr style=\"text-align: right;\">\n",
       "      <th></th>\n",
       "      <th>Country</th>\n",
       "      <th>Capital</th>\n",
       "      <th>ISO</th>\n",
       "      <th>Fajr</th>\n",
       "      <th>Maghrib</th>\n",
       "      <th>Duration</th>\n",
       "      <th>Date</th>\n",
       "      <th>Day</th>\n",
       "      <th>Month</th>\n",
       "      <th>Year</th>\n",
       "    </tr>\n",
       "  </thead>\n",
       "  <tbody>\n",
       "    <tr>\n",
       "      <th>0</th>\n",
       "      <td>Afghanistan</td>\n",
       "      <td>Kabul</td>\n",
       "      <td>AF</td>\n",
       "      <td>05:32</td>\n",
       "      <td>17:33</td>\n",
       "      <td>12.016667</td>\n",
       "      <td>12 Feb 1994</td>\n",
       "      <td>12</td>\n",
       "      <td>Feb</td>\n",
       "      <td>1994</td>\n",
       "    </tr>\n",
       "    <tr>\n",
       "      <th>1</th>\n",
       "      <td>Afghanistan</td>\n",
       "      <td>Kabul</td>\n",
       "      <td>AF</td>\n",
       "      <td>05:40</td>\n",
       "      <td>17:22</td>\n",
       "      <td>11.700000</td>\n",
       "      <td>01 Feb 1995</td>\n",
       "      <td>01</td>\n",
       "      <td>Feb</td>\n",
       "      <td>1995</td>\n",
       "    </tr>\n",
       "    <tr>\n",
       "      <th>2</th>\n",
       "      <td>Afghanistan</td>\n",
       "      <td>Kabul</td>\n",
       "      <td>AF</td>\n",
       "      <td>05:45</td>\n",
       "      <td>17:12</td>\n",
       "      <td>11.450000</td>\n",
       "      <td>22 Jan 1996</td>\n",
       "      <td>22</td>\n",
       "      <td>Jan</td>\n",
       "      <td>1996</td>\n",
       "    </tr>\n",
       "    <tr>\n",
       "      <th>3</th>\n",
       "      <td>Afghanistan</td>\n",
       "      <td>Kabul</td>\n",
       "      <td>AF</td>\n",
       "      <td>05:47</td>\n",
       "      <td>17:01</td>\n",
       "      <td>11.233333</td>\n",
       "      <td>10 Jan 1997</td>\n",
       "      <td>10</td>\n",
       "      <td>Jan</td>\n",
       "      <td>1997</td>\n",
       "    </tr>\n",
       "    <tr>\n",
       "      <th>4</th>\n",
       "      <td>Afghanistan</td>\n",
       "      <td>Kabul</td>\n",
       "      <td>AF</td>\n",
       "      <td>05:45</td>\n",
       "      <td>16:53</td>\n",
       "      <td>11.133333</td>\n",
       "      <td>31 Dec 1997</td>\n",
       "      <td>31</td>\n",
       "      <td>Dec</td>\n",
       "      <td>1997</td>\n",
       "    </tr>\n",
       "  </tbody>\n",
       "</table>\n",
       "</div>"
      ],
      "text/plain": [
       "       Country Capital ISO   Fajr Maghrib   Duration         Date Day Month  \\\n",
       "0  Afghanistan   Kabul  AF  05:32   17:33  12.016667  12 Feb 1994  12   Feb   \n",
       "1  Afghanistan   Kabul  AF  05:40   17:22  11.700000  01 Feb 1995  01   Feb   \n",
       "2  Afghanistan   Kabul  AF  05:45   17:12  11.450000  22 Jan 1996  22   Jan   \n",
       "3  Afghanistan   Kabul  AF  05:47   17:01  11.233333  10 Jan 1997  10   Jan   \n",
       "4  Afghanistan   Kabul  AF  05:45   16:53  11.133333  31 Dec 1997  31   Dec   \n",
       "\n",
       "   Year  \n",
       "0  1994  \n",
       "1  1995  \n",
       "2  1996  \n",
       "3  1997  \n",
       "4  1997  "
      ]
     },
     "execution_count": 24,
     "metadata": {},
     "output_type": "execute_result"
    }
   ],
   "source": [
    "Ramadan_data[['Day','Month','Year']]=Ramadan_data.Date.str.split(expand=True)\n",
    "Ramadan_data.head()"
   ]
  },
  {
   "cell_type": "code",
   "execution_count": 25,
   "id": "ebee8acb",
   "metadata": {},
   "outputs": [],
   "source": [
    "Ramadan_data.to_csv('Ramadan_data.csv')"
   ]
  },
  {
   "cell_type": "code",
   "execution_count": null,
   "id": "e9583942",
   "metadata": {},
   "outputs": [],
   "source": []
  }
 ],
 "metadata": {
  "kernelspec": {
   "display_name": "Python 3 (ipykernel)",
   "language": "python",
   "name": "python3"
  },
  "language_info": {
   "codemirror_mode": {
    "name": "ipython",
    "version": 3
   },
   "file_extension": ".py",
   "mimetype": "text/x-python",
   "name": "python",
   "nbconvert_exporter": "python",
   "pygments_lexer": "ipython3",
   "version": "3.9.7"
  }
 },
 "nbformat": 4,
 "nbformat_minor": 5
}
